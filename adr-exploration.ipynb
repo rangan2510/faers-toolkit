{
 "cells": [
  {
   "cell_type": "code",
   "execution_count": 1,
   "id": "68c12eac",
   "metadata": {
    "_cell_guid": "b1076dfc-b9ad-4769-8c92-a6c4dae69d19",
    "_uuid": "8f2839f25d086af736a60e9eeb907d3b93b6e0e5",
    "execution": {
     "iopub.execute_input": "2024-01-08T11:09:34.054058Z",
     "iopub.status.busy": "2024-01-08T11:09:34.053391Z",
     "iopub.status.idle": "2024-01-08T11:10:27.277012Z",
     "shell.execute_reply": "2024-01-08T11:10:27.275553Z"
    },
    "papermill": {
     "duration": 53.233298,
     "end_time": "2024-01-08T11:10:27.280341",
     "exception": false,
     "start_time": "2024-01-08T11:09:34.047043",
     "status": "completed"
    },
    "tags": []
   },
   "outputs": [
    {
     "name": "stdout",
     "output_type": "stream",
     "text": [
      "\u001b[31mERROR: pip's dependency resolver does not currently take into account all the packages that are installed. This behaviour is the source of the following dependency conflicts.\r\n",
      "apache-beam 2.46.0 requires dill<0.3.2,>=0.3.1.1, but you have dill 0.3.7 which is incompatible.\r\n",
      "apache-beam 2.46.0 requires pyarrow<10.0.0,>=3.0.0, but you have pyarrow 14.0.1 which is incompatible.\r\n",
      "jupyterlab 4.0.5 requires jupyter-lsp>=2.0.0, but you have jupyter-lsp 1.5.1 which is incompatible.\r\n",
      "jupyterlab-lsp 5.0.1 requires jupyter-lsp>=2.0.0, but you have jupyter-lsp 1.5.1 which is incompatible.\r\n",
      "jupyterlab-lsp 5.0.1 requires jupyterlab<5.0.0a0,>=4.0.6, but you have jupyterlab 4.0.5 which is incompatible.\r\n",
      "pymc3 3.11.5 requires numpy<1.22.2,>=1.15.0, but you have numpy 1.24.3 which is incompatible.\r\n",
      "pymc3 3.11.5 requires scipy<1.8.0,>=1.7.3, but you have scipy 1.11.4 which is incompatible.\r\n",
      "pytoolconfig 1.2.6 requires packaging>=22.0, but you have packaging 21.3 which is incompatible.\r\n",
      "spopt 0.6.0 requires shapely>=2.0.1, but you have shapely 1.8.5.post1 which is incompatible.\r\n",
      "tensorflow 2.13.0 requires typing-extensions<4.6.0,>=3.6.6, but you have typing-extensions 4.9.0 which is incompatible.\r\n",
      "tensorflow-probability 0.21.0 requires typing-extensions<4.6.0, but you have typing-extensions 4.9.0 which is incompatible.\r\n",
      "tensorflowjs 4.14.0 requires packaging~=23.1, but you have packaging 21.3 which is incompatible.\r\n",
      "ydata-profiling 4.5.1 requires numpy<1.24,>=1.16.0, but you have numpy 1.24.3 which is incompatible.\r\n",
      "ydata-profiling 4.5.1 requires pydantic<2,>=1.8.1, but you have pydantic 2.5.3 which is incompatible.\u001b[0m\u001b[31m\r\n",
      "\u001b[0m"
     ]
    }
   ],
   "source": [
    "!pip install -q polars[all]"
   ]
  },
  {
   "cell_type": "code",
   "execution_count": 2,
   "id": "a41f1fd5",
   "metadata": {
    "execution": {
     "iopub.execute_input": "2024-01-08T11:10:27.291379Z",
     "iopub.status.busy": "2024-01-08T11:10:27.290977Z",
     "iopub.status.idle": "2024-01-08T11:10:27.643430Z",
     "shell.execute_reply": "2024-01-08T11:10:27.642143Z"
    },
    "papermill": {
     "duration": 0.361116,
     "end_time": "2024-01-08T11:10:27.646018",
     "exception": false,
     "start_time": "2024-01-08T11:10:27.284902",
     "status": "completed"
    },
    "tags": []
   },
   "outputs": [],
   "source": [
    "import polars as pl\n",
    "import json\n",
    "from tqdm.notebook import tqdm"
   ]
  },
  {
   "cell_type": "markdown",
   "id": "05fca213",
   "metadata": {
    "papermill": {
     "duration": 0.004016,
     "end_time": "2024-01-08T11:10:27.654438",
     "exception": false,
     "start_time": "2024-01-08T11:10:27.650422",
     "status": "completed"
    },
    "tags": []
   },
   "source": [
    "# Define merge and search conditions\n",
    "In this case, we are merging using Case ID and searching for Cyclosporin. FAERS also has multiple other keys for identification across tables, like ISR and Primary ID. "
   ]
  },
  {
   "cell_type": "code",
   "execution_count": 3,
   "id": "4b7705f6",
   "metadata": {
    "execution": {
     "iopub.execute_input": "2024-01-08T11:10:27.664522Z",
     "iopub.status.busy": "2024-01-08T11:10:27.664065Z",
     "iopub.status.idle": "2024-01-08T11:10:27.668867Z",
     "shell.execute_reply": "2024-01-08T11:10:27.667764Z"
    },
    "papermill": {
     "duration": 0.012773,
     "end_time": "2024-01-08T11:10:27.671222",
     "exception": false,
     "start_time": "2024-01-08T11:10:27.658449",
     "status": "completed"
    },
    "tags": []
   },
   "outputs": [],
   "source": [
    "TARGET_ID = 'CASEID'\n",
    "TARGET_DRUG = 'CYCLOSPORINE'"
   ]
  },
  {
   "cell_type": "markdown",
   "id": "a37852bd",
   "metadata": {
    "papermill": {
     "duration": 0.003627,
     "end_time": "2024-01-08T11:10:27.678982",
     "exception": false,
     "start_time": "2024-01-08T11:10:27.675355",
     "status": "completed"
    },
    "tags": []
   },
   "source": [
    "# Create lazy frames\n",
    "Next, we create lazy frames to select the adverse effect that ocurred when the target drug was administered. Please note that in this case, the adverse effect also depends on the other drugs that were administered with the target drug. \n",
    "For the sake of simplicity, we are not doing that right now. "
   ]
  },
  {
   "cell_type": "code",
   "execution_count": 4,
   "id": "abfd4a94",
   "metadata": {
    "execution": {
     "iopub.execute_input": "2024-01-08T11:10:27.688549Z",
     "iopub.status.busy": "2024-01-08T11:10:27.688120Z",
     "iopub.status.idle": "2024-01-08T11:10:27.765923Z",
     "shell.execute_reply": "2024-01-08T11:10:27.764642Z"
    },
    "papermill": {
     "duration": 0.085573,
     "end_time": "2024-01-08T11:10:27.768479",
     "exception": false,
     "start_time": "2024-01-08T11:10:27.682906",
     "status": "completed"
    },
    "tags": []
   },
   "outputs": [],
   "source": [
    "drugs_lf = pl.scan_csv(\n",
    "    source=\"/kaggle/input/faers-parsed/DRUG.csv\",\n",
    "    separator=\"\\t\",\n",
    ").select(\n",
    "    [TARGET_ID, 'DRUGNAME']\n",
    ").filter(pl.col(TARGET_ID).is_not_null() & pl.col('DRUGNAME').str.contains(TARGET_DRUG))\n",
    "# %%\n",
    "react_lf = pl.scan_csv(\n",
    "    source=\"/kaggle/input/faers-parsed/REACTION.csv\",\n",
    "    separator=\"\\t\",\n",
    ").select(\n",
    "    [TARGET_ID, 'PT']\n",
    ").filter(pl.col(TARGET_ID).is_not_null())"
   ]
  },
  {
   "cell_type": "markdown",
   "id": "6dd6cbd8",
   "metadata": {
    "papermill": {
     "duration": 0.003866,
     "end_time": "2024-01-08T11:10:27.776365",
     "exception": false,
     "start_time": "2024-01-08T11:10:27.772499",
     "status": "completed"
    },
    "tags": []
   },
   "source": [
    "# Final result\n",
    "We simply join the lazy frames and collect the data, and then dump it to the disk."
   ]
  },
  {
   "cell_type": "code",
   "execution_count": 5,
   "id": "ac75f64f",
   "metadata": {
    "execution": {
     "iopub.execute_input": "2024-01-08T11:10:27.786548Z",
     "iopub.status.busy": "2024-01-08T11:10:27.786157Z",
     "iopub.status.idle": "2024-01-08T11:11:08.253200Z",
     "shell.execute_reply": "2024-01-08T11:11:08.245680Z"
    },
    "papermill": {
     "duration": 40.507527,
     "end_time": "2024-01-08T11:11:08.288167",
     "exception": false,
     "start_time": "2024-01-08T11:10:27.780640",
     "status": "completed"
    },
    "tags": []
   },
   "outputs": [
    {
     "name": "stdout",
     "output_type": "stream",
     "text": [
      "shape: (11_356, 2)\n",
      "┌──────────────┬───────────────────────────┐\n",
      "│ DRUGNAME     ┆ PT                        │\n",
      "│ ---          ┆ ---                       │\n",
      "│ str          ┆ str                       │\n",
      "╞══════════════╪═══════════════════════════╡\n",
      "│ CYCLOSPORINE ┆ Discomfort                │\n",
      "│ CYCLOSPORINE ┆ Haemodynamic instability  │\n",
      "│ CYCLOSPORINE ┆ Perineal abscess          │\n",
      "│ CYCLOSPORINE ┆ Pyelonephritis            │\n",
      "│ …            ┆ …                         │\n",
      "│ CYCLOSPORINE ┆ Dyshidrotic eczema        │\n",
      "│ CYCLOSPORINE ┆ Hepatic ischaemia         │\n",
      "│ CYCLOSPORINE ┆ Endocarditis enterococcal │\n",
      "│ CYCLOSPORINE ┆ Injection site haematoma  │\n",
      "└──────────────┴───────────────────────────┘\n"
     ]
    }
   ],
   "source": [
    "drug_se_lf = drugs_lf.join(react_lf, on=TARGET_ID).collect()\n",
    "drug_se_lf = drug_se_lf.select(['DRUGNAME', 'PT']).unique()\n",
    "print(drug_se_lf)\n",
    "drug_se_lf.write_csv(\"dump.tsv\", separator=\"\\t\")\n"
   ]
  },
  {
   "cell_type": "markdown",
   "id": "af8ee175",
   "metadata": {
    "papermill": {
     "duration": 0.004593,
     "end_time": "2024-01-08T11:11:08.297369",
     "exception": false,
     "start_time": "2024-01-08T11:11:08.292776",
     "status": "completed"
    },
    "tags": []
   },
   "source": [
    "# Looking at target drug partners\n",
    "Idea is to find the set of drugs that were administered together and the issues they caused."
   ]
  },
  {
   "cell_type": "code",
   "execution_count": 6,
   "id": "06002114",
   "metadata": {
    "execution": {
     "iopub.execute_input": "2024-01-08T11:11:08.309414Z",
     "iopub.status.busy": "2024-01-08T11:11:08.308910Z",
     "iopub.status.idle": "2024-01-08T11:11:24.128576Z",
     "shell.execute_reply": "2024-01-08T11:11:24.126753Z"
    },
    "papermill": {
     "duration": 15.830951,
     "end_time": "2024-01-08T11:11:24.132489",
     "exception": false,
     "start_time": "2024-01-08T11:11:08.301538",
     "status": "completed"
    },
    "tags": []
   },
   "outputs": [],
   "source": [
    "# Select the case ids that have the target drug\n",
    "\n",
    "ids_lf = pl.scan_csv(\n",
    "    source=\"/kaggle/input/faers-parsed/DRUG.csv\",\n",
    "    separator=\"\\t\",\n",
    ").select(\n",
    "    [TARGET_ID, 'DRUGNAME']\n",
    ").filter(pl.col(TARGET_ID).is_not_null() & pl.col('DRUGNAME').str.contains(TARGET_DRUG)).select([TARGET_ID]).unique().collect()\n"
   ]
  },
  {
   "cell_type": "code",
   "execution_count": 7,
   "id": "a3c627dc",
   "metadata": {
    "execution": {
     "iopub.execute_input": "2024-01-08T11:11:24.151424Z",
     "iopub.status.busy": "2024-01-08T11:11:24.150975Z",
     "iopub.status.idle": "2024-01-08T11:11:24.164890Z",
     "shell.execute_reply": "2024-01-08T11:11:24.163751Z"
    },
    "papermill": {
     "duration": 0.024896,
     "end_time": "2024-01-08T11:11:24.167789",
     "exception": false,
     "start_time": "2024-01-08T11:11:24.142893",
     "status": "completed"
    },
    "tags": []
   },
   "outputs": [
    {
     "name": "stdout",
     "output_type": "stream",
     "text": [
      "26358\n"
     ]
    }
   ],
   "source": [
    "ids = ids_lf.to_series().to_list()\n",
    "print(len(ids))"
   ]
  },
  {
   "cell_type": "code",
   "execution_count": 8,
   "id": "e6a35977",
   "metadata": {
    "execution": {
     "iopub.execute_input": "2024-01-08T11:11:24.178789Z",
     "iopub.status.busy": "2024-01-08T11:11:24.178009Z",
     "iopub.status.idle": "2024-01-08T11:14:24.733377Z",
     "shell.execute_reply": "2024-01-08T11:14:24.732233Z"
    },
    "papermill": {
     "duration": 180.563523,
     "end_time": "2024-01-08T11:14:24.735564",
     "exception": false,
     "start_time": "2024-01-08T11:11:24.172041",
     "status": "completed"
    },
    "tags": []
   },
   "outputs": [
    {
     "data": {
      "application/vnd.jupyter.widget-view+json": {
       "model_id": "f9c3ad51317c4dda8c6170db195e1399",
       "version_major": 2,
       "version_minor": 0
      },
      "text/plain": [
       "  0%|          | 0/20 [00:00<?, ?it/s]"
      ]
     },
     "metadata": {},
     "output_type": "display_data"
    }
   ],
   "source": [
    "# for each id, look up the other drugs and the possible reactions. \n",
    "# i = ids[2] # considering a single id before going into a loop. \n",
    "\n",
    "adrs = {}\n",
    "\n",
    "drugs_lf = pl.scan_csv(\n",
    "        source=\"/kaggle/input/faers-parsed/DRUG.csv\",\n",
    "        separator=\"\\t\",\n",
    "        ).select(\n",
    "            [TARGET_ID, 'DRUGNAME']\n",
    "        )\n",
    "\n",
    "react_lf = pl.scan_csv(\n",
    "    source=\"/kaggle/input/faers-parsed/REACTION.csv\",\n",
    "    separator=\"\\t\",\n",
    "    ).select(\n",
    "    \n",
    "        [TARGET_ID, 'PT']\n",
    "    )\n",
    "\n",
    "for i in tqdm(ids[:20]):\n",
    "    co_drugs = drugs_lf.filter(pl.col(TARGET_ID) == i).unique().collect().select(['DRUGNAME']).to_series().to_list()\n",
    "    co_react = react_lf.filter(pl.col(TARGET_ID) == i).select(['PT']).collect().to_series().to_list()\n",
    "    adrs[i] = {\n",
    "        'drugs': co_drugs,\n",
    "        'reactions': co_react\n",
    "    }"
   ]
  },
  {
   "cell_type": "code",
   "execution_count": 9,
   "id": "5844fbff",
   "metadata": {
    "execution": {
     "iopub.execute_input": "2024-01-08T11:14:24.746986Z",
     "iopub.status.busy": "2024-01-08T11:14:24.745829Z",
     "iopub.status.idle": "2024-01-08T11:14:24.752099Z",
     "shell.execute_reply": "2024-01-08T11:14:24.751213Z"
    },
    "papermill": {
     "duration": 0.014545,
     "end_time": "2024-01-08T11:14:24.754623",
     "exception": false,
     "start_time": "2024-01-08T11:14:24.740078",
     "status": "completed"
    },
    "tags": []
   },
   "outputs": [],
   "source": [
    "with open( 'dump.json', 'w') as f:\n",
    "   json.dump(adrs, f, indent=4)"
   ]
  },
  {
   "cell_type": "code",
   "execution_count": null,
   "id": "91503625",
   "metadata": {
    "papermill": {
     "duration": 0.003985,
     "end_time": "2024-01-08T11:14:24.762927",
     "exception": false,
     "start_time": "2024-01-08T11:14:24.758942",
     "status": "completed"
    },
    "tags": []
   },
   "outputs": [],
   "source": []
  }
 ],
 "metadata": {
  "kaggle": {
   "accelerator": "none",
   "dataSources": [
    {
     "databundleVersionId": 7441578,
     "datasetId": 4259058,
     "sourceId": 7351131,
     "sourceType": "datasetVersion"
    }
   ],
   "dockerImageVersionId": 30626,
   "isGpuEnabled": false,
   "isInternetEnabled": true,
   "language": "python",
   "sourceType": "notebook"
  },
  "kernelspec": {
   "display_name": "Python 3",
   "language": "python",
   "name": "python3"
  },
  "language_info": {
   "codemirror_mode": {
    "name": "ipython",
    "version": 3
   },
   "file_extension": ".py",
   "mimetype": "text/x-python",
   "name": "python",
   "nbconvert_exporter": "python",
   "pygments_lexer": "ipython3",
   "version": "3.10.12"
  },
  "papermill": {
   "default_parameters": {},
   "duration": 294.379167,
   "end_time": "2024-01-08T11:14:25.291251",
   "environment_variables": {},
   "exception": null,
   "input_path": "__notebook__.ipynb",
   "output_path": "__notebook__.ipynb",
   "parameters": {},
   "start_time": "2024-01-08T11:09:30.912084",
   "version": "2.4.0"
  },
  "widgets": {
   "application/vnd.jupyter.widget-state+json": {
    "state": {
     "11286bdd19cb43ab81c919852ead5039": {
      "model_module": "@jupyter-widgets/base",
      "model_module_version": "1.2.0",
      "model_name": "LayoutModel",
      "state": {
       "_model_module": "@jupyter-widgets/base",
       "_model_module_version": "1.2.0",
       "_model_name": "LayoutModel",
       "_view_count": null,
       "_view_module": "@jupyter-widgets/base",
       "_view_module_version": "1.2.0",
       "_view_name": "LayoutView",
       "align_content": null,
       "align_items": null,
       "align_self": null,
       "border": null,
       "bottom": null,
       "display": null,
       "flex": null,
       "flex_flow": null,
       "grid_area": null,
       "grid_auto_columns": null,
       "grid_auto_flow": null,
       "grid_auto_rows": null,
       "grid_column": null,
       "grid_gap": null,
       "grid_row": null,
       "grid_template_areas": null,
       "grid_template_columns": null,
       "grid_template_rows": null,
       "height": null,
       "justify_content": null,
       "justify_items": null,
       "left": null,
       "margin": null,
       "max_height": null,
       "max_width": null,
       "min_height": null,
       "min_width": null,
       "object_fit": null,
       "object_position": null,
       "order": null,
       "overflow": null,
       "overflow_x": null,
       "overflow_y": null,
       "padding": null,
       "right": null,
       "top": null,
       "visibility": null,
       "width": null
      }
     },
     "2e93c3ccff4848a0b5899a7b45181ace": {
      "model_module": "@jupyter-widgets/base",
      "model_module_version": "1.2.0",
      "model_name": "LayoutModel",
      "state": {
       "_model_module": "@jupyter-widgets/base",
       "_model_module_version": "1.2.0",
       "_model_name": "LayoutModel",
       "_view_count": null,
       "_view_module": "@jupyter-widgets/base",
       "_view_module_version": "1.2.0",
       "_view_name": "LayoutView",
       "align_content": null,
       "align_items": null,
       "align_self": null,
       "border": null,
       "bottom": null,
       "display": null,
       "flex": null,
       "flex_flow": null,
       "grid_area": null,
       "grid_auto_columns": null,
       "grid_auto_flow": null,
       "grid_auto_rows": null,
       "grid_column": null,
       "grid_gap": null,
       "grid_row": null,
       "grid_template_areas": null,
       "grid_template_columns": null,
       "grid_template_rows": null,
       "height": null,
       "justify_content": null,
       "justify_items": null,
       "left": null,
       "margin": null,
       "max_height": null,
       "max_width": null,
       "min_height": null,
       "min_width": null,
       "object_fit": null,
       "object_position": null,
       "order": null,
       "overflow": null,
       "overflow_x": null,
       "overflow_y": null,
       "padding": null,
       "right": null,
       "top": null,
       "visibility": null,
       "width": null
      }
     },
     "5280a2dbf5f44ddc9e5becd7b99d4da1": {
      "model_module": "@jupyter-widgets/base",
      "model_module_version": "1.2.0",
      "model_name": "LayoutModel",
      "state": {
       "_model_module": "@jupyter-widgets/base",
       "_model_module_version": "1.2.0",
       "_model_name": "LayoutModel",
       "_view_count": null,
       "_view_module": "@jupyter-widgets/base",
       "_view_module_version": "1.2.0",
       "_view_name": "LayoutView",
       "align_content": null,
       "align_items": null,
       "align_self": null,
       "border": null,
       "bottom": null,
       "display": null,
       "flex": null,
       "flex_flow": null,
       "grid_area": null,
       "grid_auto_columns": null,
       "grid_auto_flow": null,
       "grid_auto_rows": null,
       "grid_column": null,
       "grid_gap": null,
       "grid_row": null,
       "grid_template_areas": null,
       "grid_template_columns": null,
       "grid_template_rows": null,
       "height": null,
       "justify_content": null,
       "justify_items": null,
       "left": null,
       "margin": null,
       "max_height": null,
       "max_width": null,
       "min_height": null,
       "min_width": null,
       "object_fit": null,
       "object_position": null,
       "order": null,
       "overflow": null,
       "overflow_x": null,
       "overflow_y": null,
       "padding": null,
       "right": null,
       "top": null,
       "visibility": null,
       "width": null
      }
     },
     "60a109b6f8864a1a9641dc054040cfbc": {
      "model_module": "@jupyter-widgets/base",
      "model_module_version": "1.2.0",
      "model_name": "LayoutModel",
      "state": {
       "_model_module": "@jupyter-widgets/base",
       "_model_module_version": "1.2.0",
       "_model_name": "LayoutModel",
       "_view_count": null,
       "_view_module": "@jupyter-widgets/base",
       "_view_module_version": "1.2.0",
       "_view_name": "LayoutView",
       "align_content": null,
       "align_items": null,
       "align_self": null,
       "border": null,
       "bottom": null,
       "display": null,
       "flex": null,
       "flex_flow": null,
       "grid_area": null,
       "grid_auto_columns": null,
       "grid_auto_flow": null,
       "grid_auto_rows": null,
       "grid_column": null,
       "grid_gap": null,
       "grid_row": null,
       "grid_template_areas": null,
       "grid_template_columns": null,
       "grid_template_rows": null,
       "height": null,
       "justify_content": null,
       "justify_items": null,
       "left": null,
       "margin": null,
       "max_height": null,
       "max_width": null,
       "min_height": null,
       "min_width": null,
       "object_fit": null,
       "object_position": null,
       "order": null,
       "overflow": null,
       "overflow_x": null,
       "overflow_y": null,
       "padding": null,
       "right": null,
       "top": null,
       "visibility": null,
       "width": null
      }
     },
     "73abdfecd5554e469b5b7b7b5aae23b9": {
      "model_module": "@jupyter-widgets/controls",
      "model_module_version": "1.5.0",
      "model_name": "FloatProgressModel",
      "state": {
       "_dom_classes": [],
       "_model_module": "@jupyter-widgets/controls",
       "_model_module_version": "1.5.0",
       "_model_name": "FloatProgressModel",
       "_view_count": null,
       "_view_module": "@jupyter-widgets/controls",
       "_view_module_version": "1.5.0",
       "_view_name": "ProgressView",
       "bar_style": "success",
       "description": "",
       "description_tooltip": null,
       "layout": "IPY_MODEL_11286bdd19cb43ab81c919852ead5039",
       "max": 20.0,
       "min": 0.0,
       "orientation": "horizontal",
       "style": "IPY_MODEL_d953fbc0d84448c295f214a2db537f32",
       "value": 20.0
      }
     },
     "83f0dfad67cb4f299c5953c7e5dd92a9": {
      "model_module": "@jupyter-widgets/controls",
      "model_module_version": "1.5.0",
      "model_name": "HTMLModel",
      "state": {
       "_dom_classes": [],
       "_model_module": "@jupyter-widgets/controls",
       "_model_module_version": "1.5.0",
       "_model_name": "HTMLModel",
       "_view_count": null,
       "_view_module": "@jupyter-widgets/controls",
       "_view_module_version": "1.5.0",
       "_view_name": "HTMLView",
       "description": "",
       "description_tooltip": null,
       "layout": "IPY_MODEL_60a109b6f8864a1a9641dc054040cfbc",
       "placeholder": "​",
       "style": "IPY_MODEL_c0b9771eeaa64d10803a479dce5b7c17",
       "value": " 20/20 [03:00&lt;00:00,  8.78s/it]"
      }
     },
     "ad5babfc0feb4e0aa3e00adee18c218d": {
      "model_module": "@jupyter-widgets/controls",
      "model_module_version": "1.5.0",
      "model_name": "HTMLModel",
      "state": {
       "_dom_classes": [],
       "_model_module": "@jupyter-widgets/controls",
       "_model_module_version": "1.5.0",
       "_model_name": "HTMLModel",
       "_view_count": null,
       "_view_module": "@jupyter-widgets/controls",
       "_view_module_version": "1.5.0",
       "_view_name": "HTMLView",
       "description": "",
       "description_tooltip": null,
       "layout": "IPY_MODEL_2e93c3ccff4848a0b5899a7b45181ace",
       "placeholder": "​",
       "style": "IPY_MODEL_da841785c13b43059c8cff7f8526e212",
       "value": "100%"
      }
     },
     "c0b9771eeaa64d10803a479dce5b7c17": {
      "model_module": "@jupyter-widgets/controls",
      "model_module_version": "1.5.0",
      "model_name": "DescriptionStyleModel",
      "state": {
       "_model_module": "@jupyter-widgets/controls",
       "_model_module_version": "1.5.0",
       "_model_name": "DescriptionStyleModel",
       "_view_count": null,
       "_view_module": "@jupyter-widgets/base",
       "_view_module_version": "1.2.0",
       "_view_name": "StyleView",
       "description_width": ""
      }
     },
     "d953fbc0d84448c295f214a2db537f32": {
      "model_module": "@jupyter-widgets/controls",
      "model_module_version": "1.5.0",
      "model_name": "ProgressStyleModel",
      "state": {
       "_model_module": "@jupyter-widgets/controls",
       "_model_module_version": "1.5.0",
       "_model_name": "ProgressStyleModel",
       "_view_count": null,
       "_view_module": "@jupyter-widgets/base",
       "_view_module_version": "1.2.0",
       "_view_name": "StyleView",
       "bar_color": null,
       "description_width": ""
      }
     },
     "da841785c13b43059c8cff7f8526e212": {
      "model_module": "@jupyter-widgets/controls",
      "model_module_version": "1.5.0",
      "model_name": "DescriptionStyleModel",
      "state": {
       "_model_module": "@jupyter-widgets/controls",
       "_model_module_version": "1.5.0",
       "_model_name": "DescriptionStyleModel",
       "_view_count": null,
       "_view_module": "@jupyter-widgets/base",
       "_view_module_version": "1.2.0",
       "_view_name": "StyleView",
       "description_width": ""
      }
     },
     "f9c3ad51317c4dda8c6170db195e1399": {
      "model_module": "@jupyter-widgets/controls",
      "model_module_version": "1.5.0",
      "model_name": "HBoxModel",
      "state": {
       "_dom_classes": [],
       "_model_module": "@jupyter-widgets/controls",
       "_model_module_version": "1.5.0",
       "_model_name": "HBoxModel",
       "_view_count": null,
       "_view_module": "@jupyter-widgets/controls",
       "_view_module_version": "1.5.0",
       "_view_name": "HBoxView",
       "box_style": "",
       "children": [
        "IPY_MODEL_ad5babfc0feb4e0aa3e00adee18c218d",
        "IPY_MODEL_73abdfecd5554e469b5b7b7b5aae23b9",
        "IPY_MODEL_83f0dfad67cb4f299c5953c7e5dd92a9"
       ],
       "layout": "IPY_MODEL_5280a2dbf5f44ddc9e5becd7b99d4da1"
      }
     }
    },
    "version_major": 2,
    "version_minor": 0
   }
  }
 },
 "nbformat": 4,
 "nbformat_minor": 5
}
